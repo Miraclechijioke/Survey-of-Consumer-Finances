{
 "cells": [
  {
   "cell_type": "markdown",
   "id": "8221da8b",
   "metadata": {},
   "source": [
    "\n",
    "<div class=\"alert alert-info\" role=\"alert\">\n",
    "  <p>\n",
    "    <center><b>Usage Guidelines</b></center>\n",
    "  </p>\n",
    "\n",
    "  <p>\n",
    "    This lesson is part of the <b>DS Lab core curriculum</b>. For that reason, this notebook can only be used on your WQU virtual machine.\n",
    "  </p>\n",
    "\n",
    "  <p>\n",
    "    This means:\n",
    "    <ul>\n",
    "      <li><span style=\"color: red\">ⓧ</span> No downloading this notebook.</li>\n",
    "      <li><span style=\"color: red\">ⓧ</span> No re-sharing of this notebook with friends or colleagues.</li>\n",
    "      <li><span style=\"color: red\">ⓧ</span> No downloading the embedded videos in this notebook.</li>\n",
    "      <li><span style=\"color: red\">ⓧ</span> No re-sharing embedded videos with friends or colleagues.</li>\n",
    "      <li><span style=\"color: red\">ⓧ</span> No adding this notebook to public or private repositories.</li>\n",
    "      <li><span style=\"color: red\">ⓧ</span> No uploading this notebook (or screenshots of it) to other websites, including websites for study resources.</li>\n",
    "    </ul>\n",
    "\n",
    "  </p>\n",
    "</div>\n"
   ]
  },
  {
   "cell_type": "markdown",
   "id": "2e7746af",
   "metadata": {},
   "source": [
    "<font size=\"+3\"><strong>6.5. Small Business Owners in the United States🇺🇸</strong></font>"
   ]
  },
  {
   "cell_type": "markdown",
   "id": "893da699",
   "metadata": {},
   "source": [
    "In this assignment, you're going to focus on business owners in the United States. You'll start by examining some demographic characteristics of the group, such as age, income category, and debt vs home value. Then you'll select high-variance features, and create a clustering model to divide small business owners into subgroups. Finally, you'll create some visualizations to highlight the differences between these subgroups. Good luck! 🍀"
   ]
  },
  {
   "cell_type": "code",
   "execution_count": 2,
   "id": "476d8a31",
   "metadata": {},
   "outputs": [],
   "source": [
    "# Import libraries here\n",
    "import pandas as pd\n",
    "import plotly.express as px\n",
    "from scipy.stats.mstats import trimmed_var\n",
    "from sklearn.cluster import KMeans\n",
    "from sklearn.decomposition import PCA\n",
    "from sklearn.metrics import silhouette_score\n",
    "from sklearn.pipeline import make_pipeline\n",
    "from sklearn.preprocessing import StandardScaler"
   ]
  },
  {
   "cell_type": "markdown",
   "id": "b688cfbd",
   "metadata": {},
   "source": [
    "# Prepare Data"
   ]
  },
  {
   "cell_type": "markdown",
   "id": "e18bc12e",
   "metadata": {},
   "source": [
    "## Import"
   ]
  },
  {
   "cell_type": "markdown",
   "id": "04845ca8",
   "metadata": {},
   "source": [
    "Let's start by bringing our data into the assignment."
   ]
  },
  {
   "cell_type": "markdown",
   "id": "b8c5a7f2",
   "metadata": {},
   "source": [
    "**Task 6.5.1:** Read the file `\"data/SCFP2019.csv.gz\"` into the DataFrame `df`."
   ]
  },
  {
   "cell_type": "code",
   "execution_count": 3,
   "id": "7071749f",
   "metadata": {},
   "outputs": [
    {
     "name": "stdout",
     "output_type": "stream",
     "text": [
      "df shape: (28885, 352)\n"
     ]
    },
    {
     "data": {
      "text/html": [
       "<div>\n",
       "<style scoped>\n",
       "    .dataframe tbody tr th:only-of-type {\n",
       "        vertical-align: middle;\n",
       "    }\n",
       "\n",
       "    .dataframe tbody tr th {\n",
       "        vertical-align: top;\n",
       "    }\n",
       "\n",
       "    .dataframe thead th {\n",
       "        text-align: right;\n",
       "    }\n",
       "</style>\n",
       "<table border=\"1\" class=\"dataframe\">\n",
       "  <thead>\n",
       "    <tr style=\"text-align: right;\">\n",
       "      <th></th>\n",
       "      <th>Unnamed: 0</th>\n",
       "      <th>YY1</th>\n",
       "      <th>Y1</th>\n",
       "      <th>WGT</th>\n",
       "      <th>HHSEX</th>\n",
       "      <th>AGE</th>\n",
       "      <th>AGECL</th>\n",
       "      <th>EDUC</th>\n",
       "      <th>EDCL</th>\n",
       "      <th>MARRIED</th>\n",
       "      <th>...</th>\n",
       "      <th>NWCAT</th>\n",
       "      <th>INCCAT</th>\n",
       "      <th>ASSETCAT</th>\n",
       "      <th>NINCCAT</th>\n",
       "      <th>NINC2CAT</th>\n",
       "      <th>NWPCTLECAT</th>\n",
       "      <th>INCPCTLECAT</th>\n",
       "      <th>NINCPCTLECAT</th>\n",
       "      <th>INCQRTCAT</th>\n",
       "      <th>NINCQRTCAT</th>\n",
       "    </tr>\n",
       "  </thead>\n",
       "  <tbody>\n",
       "    <tr>\n",
       "      <th>0</th>\n",
       "      <td>0</td>\n",
       "      <td>1</td>\n",
       "      <td>11</td>\n",
       "      <td>6119.779308</td>\n",
       "      <td>2</td>\n",
       "      <td>75</td>\n",
       "      <td>6</td>\n",
       "      <td>12</td>\n",
       "      <td>4</td>\n",
       "      <td>2</td>\n",
       "      <td>...</td>\n",
       "      <td>5</td>\n",
       "      <td>3</td>\n",
       "      <td>6</td>\n",
       "      <td>3</td>\n",
       "      <td>2</td>\n",
       "      <td>10</td>\n",
       "      <td>6</td>\n",
       "      <td>6</td>\n",
       "      <td>3</td>\n",
       "      <td>3</td>\n",
       "    </tr>\n",
       "    <tr>\n",
       "      <th>1</th>\n",
       "      <td>1</td>\n",
       "      <td>1</td>\n",
       "      <td>12</td>\n",
       "      <td>4712.374912</td>\n",
       "      <td>2</td>\n",
       "      <td>75</td>\n",
       "      <td>6</td>\n",
       "      <td>12</td>\n",
       "      <td>4</td>\n",
       "      <td>2</td>\n",
       "      <td>...</td>\n",
       "      <td>5</td>\n",
       "      <td>3</td>\n",
       "      <td>6</td>\n",
       "      <td>3</td>\n",
       "      <td>1</td>\n",
       "      <td>10</td>\n",
       "      <td>5</td>\n",
       "      <td>5</td>\n",
       "      <td>2</td>\n",
       "      <td>2</td>\n",
       "    </tr>\n",
       "    <tr>\n",
       "      <th>2</th>\n",
       "      <td>2</td>\n",
       "      <td>1</td>\n",
       "      <td>13</td>\n",
       "      <td>5145.224455</td>\n",
       "      <td>2</td>\n",
       "      <td>75</td>\n",
       "      <td>6</td>\n",
       "      <td>12</td>\n",
       "      <td>4</td>\n",
       "      <td>2</td>\n",
       "      <td>...</td>\n",
       "      <td>5</td>\n",
       "      <td>3</td>\n",
       "      <td>6</td>\n",
       "      <td>3</td>\n",
       "      <td>1</td>\n",
       "      <td>10</td>\n",
       "      <td>5</td>\n",
       "      <td>5</td>\n",
       "      <td>2</td>\n",
       "      <td>2</td>\n",
       "    </tr>\n",
       "    <tr>\n",
       "      <th>3</th>\n",
       "      <td>3</td>\n",
       "      <td>1</td>\n",
       "      <td>14</td>\n",
       "      <td>5297.663412</td>\n",
       "      <td>2</td>\n",
       "      <td>75</td>\n",
       "      <td>6</td>\n",
       "      <td>12</td>\n",
       "      <td>4</td>\n",
       "      <td>2</td>\n",
       "      <td>...</td>\n",
       "      <td>5</td>\n",
       "      <td>2</td>\n",
       "      <td>6</td>\n",
       "      <td>2</td>\n",
       "      <td>1</td>\n",
       "      <td>10</td>\n",
       "      <td>4</td>\n",
       "      <td>4</td>\n",
       "      <td>2</td>\n",
       "      <td>2</td>\n",
       "    </tr>\n",
       "    <tr>\n",
       "      <th>4</th>\n",
       "      <td>4</td>\n",
       "      <td>1</td>\n",
       "      <td>15</td>\n",
       "      <td>4761.812371</td>\n",
       "      <td>2</td>\n",
       "      <td>75</td>\n",
       "      <td>6</td>\n",
       "      <td>12</td>\n",
       "      <td>4</td>\n",
       "      <td>2</td>\n",
       "      <td>...</td>\n",
       "      <td>5</td>\n",
       "      <td>3</td>\n",
       "      <td>6</td>\n",
       "      <td>3</td>\n",
       "      <td>1</td>\n",
       "      <td>10</td>\n",
       "      <td>5</td>\n",
       "      <td>5</td>\n",
       "      <td>2</td>\n",
       "      <td>2</td>\n",
       "    </tr>\n",
       "  </tbody>\n",
       "</table>\n",
       "<p>5 rows × 352 columns</p>\n",
       "</div>"
      ],
      "text/plain": [
       "   Unnamed: 0  YY1  Y1          WGT  HHSEX  AGE  AGECL  EDUC  EDCL  MARRIED  \\\n",
       "0           0    1  11  6119.779308      2   75      6    12     4        2   \n",
       "1           1    1  12  4712.374912      2   75      6    12     4        2   \n",
       "2           2    1  13  5145.224455      2   75      6    12     4        2   \n",
       "3           3    1  14  5297.663412      2   75      6    12     4        2   \n",
       "4           4    1  15  4761.812371      2   75      6    12     4        2   \n",
       "\n",
       "   ...  NWCAT  INCCAT  ASSETCAT  NINCCAT  NINC2CAT  NWPCTLECAT  INCPCTLECAT  \\\n",
       "0  ...      5       3         6        3         2          10            6   \n",
       "1  ...      5       3         6        3         1          10            5   \n",
       "2  ...      5       3         6        3         1          10            5   \n",
       "3  ...      5       2         6        2         1          10            4   \n",
       "4  ...      5       3         6        3         1          10            5   \n",
       "\n",
       "   NINCPCTLECAT  INCQRTCAT  NINCQRTCAT  \n",
       "0             6          3           3  \n",
       "1             5          2           2  \n",
       "2             5          2           2  \n",
       "3             4          2           2  \n",
       "4             5          2           2  \n",
       "\n",
       "[5 rows x 352 columns]"
      ]
     },
     "execution_count": 3,
     "metadata": {},
     "output_type": "execute_result"
    }
   ],
   "source": [
    "df = pd.read_csv(\"Survey of Consumer Finances.csv\")\n",
    "print(\"df shape:\", df.shape)\n",
    "df.head()"
   ]
  },
  {
   "cell_type": "markdown",
   "id": "f64d2f51",
   "metadata": {},
   "source": [
    "## Explore"
   ]
  },
  {
   "cell_type": "markdown",
   "id": "f516f9a5",
   "metadata": {},
   "source": [
    "As mentioned at the start of this assignment, you're focusing on business owners. But what percentage of the respondents in `df` are business owners?"
   ]
  },
  {
   "cell_type": "markdown",
   "id": "377dd87f",
   "metadata": {},
   "source": [
    "**Task 6.5.2:** Calculate the proportion of respondents in `df` that are business owners, and assign the result to the variable `prop_biz_owners`. You'll need to review the documentation regarding the `\"HBUS\"` column to complete these tasks."
   ]
  },
  {
   "cell_type": "code",
   "execution_count": null,
   "id": "86a76147",
   "metadata": {},
   "outputs": [],
   "source": [
    "prop_biz_owners = ...\n",
    "print(\"proportion of business owners in df:\", prop_biz_owners)"
   ]
  },
  {
   "cell_type": "code",
   "execution_count": null,
   "id": "9a0ac1b7",
   "metadata": {},
   "outputs": [],
   "source": [
    "prop_biz_owners.shape"
   ]
  },
  {
   "cell_type": "markdown",
   "id": "0e6da2e8",
   "metadata": {},
   "source": [
    "Is the distribution of income different for business owners and non-business owners?"
   ]
  },
  {
   "cell_type": "markdown",
   "id": "6598bf94",
   "metadata": {},
   "source": [
    "**Task 6.5.3:** Create a DataFrame `df_inccat` that shows the normalized frequency for income categories for business owners and non-business owners. Your final DataFrame should look something like this:\n",
    "\n",
    "```\n",
    "    HBUS   INCCAT  frequency\n",
    "0      0     0-20   0.210348\n",
    "1      0  21-39.9   0.198140\n",
    "...\n",
    "11     1     0-20   0.041188\n",
    "```"
   ]
  },
  {
   "cell_type": "code",
   "execution_count": null,
   "id": "5c374536",
   "metadata": {},
   "outputs": [],
   "source": [
    "inccat_dict = {\n",
    "    1: \"0-20\",\n",
    "    2: \"21-39.9\",\n",
    "    3: \"40-59.9\",\n",
    "    4: \"60-79.9\",\n",
    "    5: \"80-89.9\",\n",
    "    6: \"90-100\",\n",
    "}\n",
    "\n",
    "df_inccat = ...\n",
    "\n",
    "df_inccat"
   ]
  },
  {
   "cell_type": "markdown",
   "id": "66f207b2",
   "metadata": {},
   "source": [
    "**Task 6.5.4:** Using seaborn, create a side-by-side bar chart of `df_inccat`. Set `hue` to `\"HBUS\"`, and make sure that the income categories are in the correct order along the x-axis. Label to the x-axis `\"Income Category\"`, the y-axis `\"Frequency (%)\"`, and use the title `\"Income Distribution: Business Owners vs. Non-Business Owners\"`."
   ]
  },
  {
   "cell_type": "code",
   "execution_count": null,
   "id": "f20160c5",
   "metadata": {},
   "outputs": [],
   "source": [
    "# Create bar chart of `df_inccat`\n",
    "\n",
    "# Don't delete the code below 👇\n",
    "plt.savefig(\"images/6-5-4.png\", dpi=150)\n"
   ]
  },
  {
   "cell_type": "code",
   "execution_count": null,
   "id": "46b740b8",
   "metadata": {},
   "outputs": [],
   "source": [
    "with open(\"images/6-5-4.png\", \"rb\") as file:\n",
    "    wqet_grader.grade(\"Project 6 Assessment\", \"Task 6.5.4\", file)"
   ]
  },
  {
   "cell_type": "markdown",
   "id": "ebdd5662",
   "metadata": {},
   "source": [
    "We looked at the relationship between home value and household debt in the context of the the credit fearful, but what about business owners? Are there notable differences between business owners and non-business owners?"
   ]
  },
  {
   "cell_type": "markdown",
   "id": "d530c29d",
   "metadata": {},
   "source": [
    "**Task 6.5.5:** Using seaborn, create a scatter plot that shows `\"HOUSES\"` vs. `\"DEBT\"`. You should color the datapoints according to business ownership. Be sure to label the x-axis `\"Household Debt\"`, the y-axis `\"Home Value\"`, and use the title `\"Home Value vs. Household Debt\"`. "
   ]
  },
  {
   "cell_type": "code",
   "execution_count": null,
   "id": "1aaa75a4",
   "metadata": {},
   "outputs": [],
   "source": [
    "# Plot \"HOUSES\" vs \"DEBT\" with hue as business ownership\n",
    "\n",
    "# Don't delete the code below 👇\n",
    "plt.savefig(\"images/6-5-5.png\", dpi=150)\n"
   ]
  },
  {
   "cell_type": "markdown",
   "id": "c43be3ea",
   "metadata": {},
   "source": [
    "For the model building part of the assignment, you're going to focus on small business owners, defined as respondents who have a business and whose income does not exceed \\\\$500,000."
   ]
  },
  {
   "cell_type": "code",
   "execution_count": null,
   "id": "fa6c0e97",
   "metadata": {},
   "outputs": [],
   "source": [
    "with open(\"images/6-5-5.png\", \"rb\") as file:\n",
    "    wqet_grader.grade(\"Project 6 Assessment\", \"Task 6.5.5\", file)"
   ]
  },
  {
   "cell_type": "markdown",
   "id": "fe229c37",
   "metadata": {},
   "source": [
    "**Task 6.5.6:** Create a new DataFrame `df_small_biz` that contains only business owners whose income is below \\\\$500,000."
   ]
  },
  {
   "cell_type": "code",
   "execution_count": null,
   "id": "ef020c63",
   "metadata": {},
   "outputs": [],
   "source": [
    "mask = ...\n",
    "df_small_biz = ...\n",
    "print(\"df_small_biz shape:\", df_small_biz.shape)\n",
    "df_small_biz.head()"
   ]
  },
  {
   "cell_type": "markdown",
   "id": "7a67d07d",
   "metadata": {},
   "source": [
    "We saw that credit-fearful respondents were relatively young. Is the same true for small business owners?"
   ]
  },
  {
   "cell_type": "markdown",
   "id": "f0539457",
   "metadata": {},
   "source": [
    "**Task 6.5.7:** Create a histogram from the `\"AGE\"` column in `df_small_biz` with 10 bins. Be sure to label the x-axis `\"Age\"`, the y-axis `\"Frequency (count)\"`, and use the title `\"Small Business Owners: Age Distribution\"`. "
   ]
  },
  {
   "cell_type": "code",
   "execution_count": null,
   "id": "328ab1f8",
   "metadata": {},
   "outputs": [],
   "source": [
    "# Plot histogram of \"AGE\"\n",
    "\n",
    "# Don't delete the code below 👇\n",
    "plt.savefig(\"images/6-5-7.png\", dpi=150)\n"
   ]
  },
  {
   "cell_type": "markdown",
   "id": "c919ed8b",
   "metadata": {},
   "source": [
    "So, can we say the same thing about small business owners as we can about credit-fearful people?"
   ]
  },
  {
   "cell_type": "markdown",
   "id": "6b0a1422",
   "metadata": {},
   "source": [
    "Let's take a look at the variance in the dataset."
   ]
  },
  {
   "cell_type": "markdown",
   "id": "e91102c4",
   "metadata": {},
   "source": [
    "**Task 6.5.8:** Calculate the variance for all the features in `df_small_biz`, and create a Series `top_ten_var` with the 10 features with the largest variance."
   ]
  },
  {
   "cell_type": "code",
   "execution_count": null,
   "id": "8e37c193",
   "metadata": {},
   "outputs": [],
   "source": [
    "# Calculate variance, get 10 largest features\n",
    "top_ten_var = ...\n",
    "top_ten_var"
   ]
  },
  {
   "cell_type": "markdown",
   "id": "a50fee2f",
   "metadata": {},
   "source": [
    "We'll need to remove some outliers to avoid problems in our calculations, so let's trim them out."
   ]
  },
  {
   "cell_type": "markdown",
   "id": "90ccc275",
   "metadata": {},
   "source": [
    "**Task 6.5.9:** Calculate the trimmed variance for the features in `df_small_biz`. Your calculations should not include the top and bottom 10% of observations. Then create a Series `top_ten_trim_var` with the 10 features with the largest variance."
   ]
  },
  {
   "cell_type": "code",
   "execution_count": null,
   "id": "6bc1c087",
   "metadata": {},
   "outputs": [],
   "source": [
    "# Calculate trimmed variance\n",
    "top_ten_trim_var = ...\n",
    "top_ten_trim_var"
   ]
  },
  {
   "cell_type": "markdown",
   "id": "15059a0a",
   "metadata": {},
   "source": [
    "Let's do a quick visualization of those values."
   ]
  },
  {
   "cell_type": "markdown",
   "id": "6701492b",
   "metadata": {},
   "source": [
    "**Task 6.5.10:** Use plotly express to create a horizontal bar chart of `top_ten_trim_var`. Be sure to label your x-axis `\"Trimmed Variance [$]\"`, the y-axis `\"Feature\"`, and use the title `\"Small Business Owners: High Variance Features\"`."
   ]
  },
  {
   "cell_type": "code",
   "execution_count": null,
   "id": "7004de2e",
   "metadata": {},
   "outputs": [],
   "source": [
    "# Create horizontal bar chart of `top_ten_trim_var`\n",
    "\n",
    "# Don't delete the code below 👇\n",
    "fig.write_image(\"images/6-5-10.png\", scale=1, height=500, width=700)\n",
    "\n",
    "fig.show()"
   ]
  },
  {
   "cell_type": "code",
   "execution_count": null,
   "id": "316482f7",
   "metadata": {},
   "outputs": [],
   "source": [
    "with open(\"images/6-5-10.png\", \"rb\") as file:\n",
    "    wqet_grader.grade(\"Project 6 Assessment\", \"Task 6.5.10\", file)"
   ]
  },
  {
   "cell_type": "markdown",
   "id": "c520bc6b",
   "metadata": {},
   "source": [
    "Based on this graph, which five features have the highest variance?"
   ]
  },
  {
   "cell_type": "markdown",
   "id": "e897a664",
   "metadata": {},
   "source": [
    "**Task 6.5.11:** Generate a list `high_var_cols` with the column names of the  five features with the highest trimmed variance."
   ]
  },
  {
   "cell_type": "code",
   "execution_count": null,
   "id": "21837daf",
   "metadata": {},
   "outputs": [],
   "source": [
    "high_var_cols = ...\n",
    "high_var_cols"
   ]
  },
  {
   "cell_type": "markdown",
   "id": "68b33017",
   "metadata": {},
   "source": [
    "## Split"
   ]
  },
  {
   "cell_type": "markdown",
   "id": "36f97355",
   "metadata": {},
   "source": [
    "Let's turn that list into a feature matrix."
   ]
  },
  {
   "cell_type": "markdown",
   "id": "b344ab5d",
   "metadata": {},
   "source": [
    "**Task 6.5.12:** Create the feature matrix `X` from `df_small_biz`. It should contain the five columns in `high_var_cols`."
   ]
  },
  {
   "cell_type": "code",
   "execution_count": null,
   "id": "11220a49",
   "metadata": {},
   "outputs": [],
   "source": [
    "X = ...\n",
    "print(\"X shape:\", X.shape)\n",
    "X.head()"
   ]
  },
  {
   "cell_type": "markdown",
   "id": "4b1c07ba",
   "metadata": {},
   "source": [
    "# Build Model"
   ]
  },
  {
   "cell_type": "markdown",
   "id": "3469c474",
   "metadata": {},
   "source": [
    "Now that our data is in order, let's get to work on the model."
   ]
  },
  {
   "cell_type": "markdown",
   "id": "be82680b",
   "metadata": {},
   "source": [
    "## Iterate"
   ]
  },
  {
   "cell_type": "markdown",
   "id": "07c220bd",
   "metadata": {},
   "source": [
    "**Task 6.5.13:** Use a `for` loop to build and train a K-Means model where `n_clusters` ranges from 2 to 12 (inclusive). Your model should include a `StandardScaler`. Each time a model is trained, calculate the inertia and add it to the list `inertia_errors`, then calculate the silhouette score and add it to the list `silhouette_scores`."
   ]
  },
  {
   "cell_type": "markdown",
   "id": "4cb7d774",
   "metadata": {},
   "source": [
    "<div class=\"alert alert-info\" role=\"alert\">\n",
    "    <b>Note:</b> For reproducibility, make sure you set the random state for your model to <code>42</code>. \n",
    "</div>"
   ]
  },
  {
   "cell_type": "code",
   "execution_count": null,
   "id": "0d078686",
   "metadata": {},
   "outputs": [],
   "source": [
    "n_clusters = ...\n",
    "inertia_errors = ...\n",
    "silhouette_scores = ...\n",
    "\n",
    "# Add `for` loop to train model and calculate inertia, silhouette score.\n",
    "\n",
    "\n",
    "print(\"Inertia:\", inertia_errors[:11])\n",
    "print()\n",
    "print(\"Silhouette Scores:\", silhouette_scores[:3])"
   ]
  },
  {
   "cell_type": "markdown",
   "id": "cf850b6e",
   "metadata": {},
   "source": [
    "Just like we did in the previous module, we can start to figure out how many clusters we'll need with a line plot based on Inertia."
   ]
  },
  {
   "cell_type": "markdown",
   "id": "ae9699c4",
   "metadata": {},
   "source": [
    "**Task 6.5.14:** Use plotly express to create a line plot that shows the values of `inertia_errors` as a function of `n_clusters`. Be sure to label your x-axis `\"Number of Clusters\"`, your y-axis `\"Inertia\"`, and use the title `\"K-Means Model: Inertia vs Number of Clusters\"`."
   ]
  },
  {
   "cell_type": "code",
   "execution_count": null,
   "id": "bb05fe32",
   "metadata": {},
   "outputs": [],
   "source": [
    "# Create line plot of `inertia_errors` vs `n_clusters`\n",
    "\n",
    "# Don't delete the code below 👇\n",
    "fig.write_image(\"images/6-5-14.png\", scale=1, height=500, width=700)\n",
    "\n",
    "fig.show()"
   ]
  },
  {
   "cell_type": "code",
   "execution_count": null,
   "id": "0a21a864",
   "metadata": {},
   "outputs": [],
   "source": [
    "with open(\"images/6-5-14.png\", \"rb\") as file:\n",
    "    wqet_grader.grade(\"Project 6 Assessment\", \"Task 6.5.14\", file)"
   ]
  },
  {
   "cell_type": "markdown",
   "id": "1253da52",
   "metadata": {},
   "source": [
    "And let's do the same thing with our Silhouette Scores."
   ]
  },
  {
   "cell_type": "markdown",
   "id": "fe95944c",
   "metadata": {},
   "source": [
    "**Task 6.5.15:** Use plotly express to create a line plot that shows the values of `silhouette_scores` as a function of `n_clusters`. Be sure to label your x-axis `\"Number of Clusters\"`, your y-axis `\"Silhouette Score\"`, and use the title `\"K-Means Model: Silhouette Score vs Number of Clusters\"`."
   ]
  },
  {
   "cell_type": "code",
   "execution_count": null,
   "id": "a01cdf92",
   "metadata": {},
   "outputs": [],
   "source": [
    "# Create a line plot of `silhouette_scores` vs `n_clusters`\n",
    "\n",
    "# Don't delete the code below 👇\n",
    "fig.write_image(\"images/6-5-15.png\", scale=1, height=500, width=700)\n",
    "\n",
    "fig.show()"
   ]
  },
  {
   "cell_type": "markdown",
   "id": "f662631f",
   "metadata": {},
   "source": [
    "How many clusters should we use? When you've made a decision about that, it's time to build the final model."
   ]
  },
  {
   "cell_type": "markdown",
   "id": "5121d575",
   "metadata": {},
   "source": [
    "**Task 6.5.16:** Build and train a new k-means model named `final_model`. The number of clusters should be `3`."
   ]
  },
  {
   "cell_type": "markdown",
   "id": "5840f4e6",
   "metadata": {},
   "source": [
    "<div class=\"alert alert-info\" role=\"alert\">\n",
    "    <b>Note:</b> For reproducibility, make sure you set the random state for your model to <code>42</code>. \n",
    "</div>"
   ]
  },
  {
   "cell_type": "code",
   "execution_count": null,
   "id": "097d2cf5",
   "metadata": {},
   "outputs": [],
   "source": [
    "final_model = ...\n"
   ]
  },
  {
   "cell_type": "markdown",
   "id": "3c6f8a1a",
   "metadata": {},
   "source": [
    "# Communicate"
   ]
  },
  {
   "cell_type": "markdown",
   "id": "21087ba7",
   "metadata": {},
   "source": [
    "Excellent! Let's share our work! "
   ]
  },
  {
   "cell_type": "markdown",
   "id": "70c209b8",
   "metadata": {},
   "source": [
    "**Task 6.5.17:** Create a DataFrame `xgb` that contains the mean values of the features in `X` for the 3 clusters in your `final_model`."
   ]
  },
  {
   "cell_type": "code",
   "execution_count": null,
   "id": "5bced8ed",
   "metadata": {},
   "outputs": [],
   "source": [
    "labels = ...\n",
    "xgb = ...\n",
    "xgb"
   ]
  },
  {
   "cell_type": "markdown",
   "id": "7521d40e",
   "metadata": {},
   "source": [
    "As usual, let's make a visualization with the DataFrame."
   ]
  },
  {
   "cell_type": "markdown",
   "id": "dadcb645",
   "metadata": {},
   "source": [
    "**Task 6.5.18:** Use plotly express to create a side-by-side bar chart from `xgb` that shows the mean of the features in `X` for each of the clusters in your `final_model`. Be sure to label the x-axis `\"Cluster\"`, the y-axis `\"Value [$]\"`, and use the title `\"Small Business Owner Finances by Cluster\"`."
   ]
  },
  {
   "cell_type": "code",
   "execution_count": null,
   "id": "0c2ec3d0",
   "metadata": {},
   "outputs": [],
   "source": [
    "# Create side-by-side bar chart of `xgb`\n",
    "\n",
    "# Don't delete the code below 👇\n",
    "fig.write_image(\"images/6-5-18.png\", scale=1, height=500, width=700)\n",
    "\n",
    "fig.show()"
   ]
  },
  {
   "cell_type": "markdown",
   "id": "0724ece3",
   "metadata": {},
   "source": [
    "Remember what we did with higher-dimension data last time? Let's do the same thing here."
   ]
  },
  {
   "cell_type": "code",
   "execution_count": null,
   "id": "78e4a888",
   "metadata": {},
   "outputs": [],
   "source": [
    "**Task 6.5.19:** Create a `PCA` transformer, use it to reduce the dimensionality of the data in `X` to 2, and then put the transformed data into a DataFrame named `X_pca`. The columns of `X_pca` should be named `\"PC1\"` and `\"PC2\"`.# Instantiate transformer\n",
    "pca = ...\n",
    "\n",
    "# Transform `X`\n",
    "X_t = ...\n",
    "\n",
    "# Put `X_t` into DataFrame\n",
    "X_pca = ...\n",
    "\n",
    "print(\"X_pca shape:\", X_pca.shape)\n",
    "X_pca.head()"
   ]
  },
  {
   "cell_type": "markdown",
   "id": "2434e9ef",
   "metadata": {},
   "source": [
    "Finally, let's make a visualization of our final DataFrame.<span style='color: transparent; font-size:1%'>WQU WorldQuant University Applied Data Science Lab QQQQ</span>"
   ]
  },
  {
   "cell_type": "markdown",
   "id": "49b7dd17",
   "metadata": {},
   "source": [
    "**Task 6.5.20:** Use plotly express to create a scatter plot of `X_pca` using seaborn. Be sure to color the data points using the labels generated by your `final_model`. Label the x-axis `\"PC1\"`, the y-axis `\"PC2\"`, and use the title `\"PCA Representation of Clusters\"`."
   ]
  },
  {
   "cell_type": "code",
   "execution_count": null,
   "id": "3cacacde",
   "metadata": {},
   "outputs": [],
   "source": [
    "# Create scatter plot of `PC2` vs `PC1`\n",
    "\n",
    "# Don't delete the code below 👇\n",
    "fig.write_image(\"images/6-5-20.png\", scale=1, height=500, width=700)\n",
    "\n",
    "fig.show()"
   ]
  },
  {
   "cell_type": "markdown",
   "id": "afbcab03",
   "metadata": {},
   "source": [
    "---\n",
    "Copyright 2023 WorldQuant University. This\n",
    "content is licensed solely for personal use. Redistribution or\n",
    "publication of this material is strictly prohibited.\n"
   ]
  }
 ],
 "metadata": {
  "kernelspec": {
   "display_name": "Python 3 (ipykernel)",
   "language": "python",
   "name": "python3"
  },
  "language_info": {
   "codemirror_mode": {
    "name": "ipython",
    "version": 3
   },
   "file_extension": ".py",
   "mimetype": "text/x-python",
   "name": "python",
   "nbconvert_exporter": "python",
   "pygments_lexer": "ipython3",
   "version": "3.11.5"
  }
 },
 "nbformat": 4,
 "nbformat_minor": 5
}
